{
 "cells": [
  {
   "cell_type": "code",
   "execution_count": 10,
   "metadata": {},
   "outputs": [
    {
     "name": "stdout",
     "output_type": "stream",
     "text": [
      "5\n",
      "Name: Scott\n",
      "Name: Larry\n",
      "Name: Tim\n"
     ]
    }
   ],
   "source": [
    "# -*- coding: utf-8 -*-\n",
    "\"\"\"\n",
    "write and read json file \n",
    "The built-in json package transforms Python dict object in to the serialized JSON string.\n",
    "Created on Sun Jan 19 12:17:08 2020\n",
    "@author: fabio\n",
    "https://stackabuse.com/reading-and-writing-json-to-a-file-in-python/\n",
    "EXCEL TO JSON qui http://beautifytools.com/excel-to-json-converter.php\n",
    "\n",
    "\"\"\"\n",
    "\n",
    "import json\n",
    "\n",
    "\n",
    "def get_key(val): \n",
    "\tfor key, value in my_dict.items(): \n",
    "\t\tif val == value: \n",
    "\t\t\treturn key \n",
    "\treturn \"key doesn't exist\"\n",
    "      \n",
    "    \n",
    "#PRINT1\n",
    "#    for p in data['people']:\n",
    "#        print('Name: ' + p['name'])\n",
    "#        print('Website: ' + p['website'])\n",
    "#        print('From: ' + p['from'])\n",
    "#        print('Age: ' + p['age'])\n",
    "#        print('')\n",
    "\n",
    "with open('json_out_data.txt') as json_file:\n",
    "    data = json.load(json_file)\n",
    "\n",
    "#f = 'json_out_data.txt'   \n",
    "#json_string = f.read()\n",
    "#parsed_json = json.loads(json_string)\n",
    "#nome = parsed_json['nba']['player']\n",
    "#print('conosci '+nome)\n",
    "\n",
    "print(len(data['nba']))\n",
    "\n",
    "for p in data['people']:\n",
    "  print('Name: ' + p['name'])\n",
    "\n",
    "#\"Player\": \"Devonte' Graham\", \"Pos\": \"PG\", \"Age\": \"24\", \"Tm\": \"CHO\"}\n"
   ]
  },
  {
   "cell_type": "code",
   "execution_count": 8,
   "metadata": {},
   "outputs": [
    {
     "data": {
      "text/plain": [
       "{'people': [{'name': 'Scott',\n",
       "   'website': 'stackabuse.com',\n",
       "   'from': 'Nebraska',\n",
       "   'age': '21'},\n",
       "  {'name': 'Larry', 'website': 'google.com', 'from': 'Michigan', 'age': '231'},\n",
       "  {'name': 'Tim', 'website': 'apple.com', 'from': 'Alabama', 'age': '21'}],\n",
       " 'nba': [{'Rk': '1',\n",
       "   'Player': \"Devonte' Graham\",\n",
       "   'Pos': 'PG',\n",
       "   'Age': '24',\n",
       "   'Tm': 'CHO'},\n",
       "  {'Rk': '2',\n",
       "   'Player': 'Damian Lillard',\n",
       "   'Pos': 'PG',\n",
       "   'Age': '29',\n",
       "   'Tm': 'POR'},\n",
       "  {'Rk': '3',\n",
       "   'Player': 'Shai Gilgeous-Alexander',\n",
       "   'Pos': 'SG',\n",
       "   'Age': '21',\n",
       "   'Tm': 'OKC'},\n",
       "  {'Rk': '4', 'Player': 'Ben Simmons', 'Pos': 'PG', 'Age': '23', 'Tm': 'PHI'},\n",
       "  {'Rk': '5',\n",
       "   'Player': 'Tobias Harris',\n",
       "   'Pos': 'PF',\n",
       "   'Age': '27',\n",
       "   'Tm': 'PHI'}]}"
      ]
     },
     "execution_count": 8,
     "metadata": {},
     "output_type": "execute_result"
    }
   ],
   "source": [
    "data"
   ]
  },
  {
   "cell_type": "code",
   "execution_count": 16,
   "metadata": {},
   "outputs": [
    {
     "data": {
      "text/plain": [
       "'Scott'"
      ]
     },
     "execution_count": 16,
     "metadata": {},
     "output_type": "execute_result"
    }
   ],
   "source": [
    "data['people'][0]['name']"
   ]
  },
  {
   "cell_type": "code",
   "execution_count": 18,
   "metadata": {},
   "outputs": [
    {
     "data": {
      "text/plain": [
       "\"Devonte' Graham\""
      ]
     },
     "execution_count": 18,
     "metadata": {},
     "output_type": "execute_result"
    }
   ],
   "source": [
    "data['nba'][0]['Player']"
   ]
  },
  {
   "cell_type": "code",
   "execution_count": 12,
   "metadata": {},
   "outputs": [
    {
     "name": "stdout",
     "output_type": "stream",
     "text": [
      "Name: Scott\n",
      "Website: stackabuse.com\n",
      "From: Nebraska\n",
      "Age: 21\n",
      "\n",
      "Name: Larry\n",
      "Website: google.com\n",
      "From: Michigan\n",
      "Age: 231\n",
      "\n",
      "Name: Tim\n",
      "Website: apple.com\n",
      "From: Alabama\n",
      "Age: 21\n",
      "\n"
     ]
    }
   ],
   "source": [
    "   for p in data['people']:\n",
    "        print('Name: ' + p['name'])\n",
    "        print('Website: ' + p['website'])\n",
    "        print('From: ' + p['from'])\n",
    "        print('Age: ' + p['age'])\n",
    "        print('')"
   ]
  },
  {
   "cell_type": "code",
   "execution_count": 3,
   "metadata": {},
   "outputs": [
    {
     "name": "stdout",
     "output_type": "stream",
     "text": [
      "yeah\n",
      "2\n",
      "Alabama\n"
     ]
    }
   ],
   "source": [
    "\n",
    "def findname(nametofind):\n",
    "    i=0\n",
    "    for p in data['people']:\n",
    "        nome = data['people'][i]['name']\n",
    "        if nome==nametofind:\n",
    "            print(\"yeah\")\n",
    "            print(i)\n",
    "            print(data['people'][i]['from'])\n",
    "        i=i+1\n",
    "\n",
    "findname(\"Tim\")\n",
    "    "
   ]
  },
  {
   "cell_type": "code",
   "execution_count": 4,
   "metadata": {},
   "outputs": [
    {
     "name": "stdout",
     "output_type": "stream",
     "text": [
      "yeah2\n",
      "Alabama\n",
      "----------\n",
      "Alabama\n",
      "yeah2\n",
      "21\n",
      "----------\n",
      "yeah1\n",
      "Michigan\n",
      "----------\n",
      "yeah1\n",
      "google.com\n",
      "----------\n",
      "yeah3\n",
      "Ben Simmons\n",
      "----------\n",
      "yeah1\n",
      "Damian Lillard\n",
      "----------\n"
     ]
    },
    {
     "data": {
      "text/plain": [
       "'Damian Lillard'"
      ]
     },
     "execution_count": 4,
     "metadata": {},
     "output_type": "execute_result"
    }
   ],
   "source": [
    "\n",
    "def findname(nametofind,dataset,input,output):\n",
    "    i=0\n",
    "    for p in data[dataset]:\n",
    "        nome = data[dataset][i][input]\n",
    "        if nome==nametofind:\n",
    "            print(\"yeah\"+str(i))\n",
    "            print(data[dataset][i][output])\n",
    "            out = (data[dataset][i][output])\n",
    "            print('-'*10)\n",
    "            return out\n",
    "        i=i+1\n",
    "\n",
    "with open('json_out_data.txt') as json_file:\n",
    "    data = json.load(json_file)\n",
    "        \n",
    "A = findname('Tim','people','name','from')\n",
    "print(A)\n",
    "findname('Tim','people','name','age')\n",
    "findname('Larry','people','name','from')\n",
    "findname('Larry','people','name','website')\n",
    "findname('PHI','nba','Tm','Player')\n",
    "findname('POR','nba','Tm','Player')\n",
    "    "
   ]
  },
  {
   "cell_type": "code",
   "execution_count": 5,
   "metadata": {},
   "outputs": [
    {
     "name": "stdout",
     "output_type": "stream",
     "text": [
      "Alabama\n"
     ]
    }
   ],
   "source": [
    "def findname(nametofind,dataset,input,output):\n",
    "    i=0\n",
    "    out=\"not found\"\n",
    "    for p in data[dataset]:\n",
    "        nome = data[dataset][i][input]\n",
    "        if nome==nametofind:\n",
    "            out = (data[dataset][i][output])\n",
    "        i=i+1\n",
    "    return out\n",
    "\n",
    "with open('json_out_data.txt') as json_file:\n",
    "    data = json.load(json_file)\n",
    "        \n",
    "A = findname('Tim','people','name','from')\n",
    "print (A)"
   ]
  },
  {
   "cell_type": "code",
   "execution_count": 6,
   "metadata": {},
   "outputs": [
    {
     "data": {
      "text/plain": [
       "[{'Rk': '1',\n",
       "  'Player': \"Devonte' Graham\",\n",
       "  'Pos': 'PG',\n",
       "  'Age': '24',\n",
       "  'Tm': 'CHO'},\n",
       " {'Rk': '2',\n",
       "  'Player': 'Damian Lillard',\n",
       "  'Pos': 'PG',\n",
       "  'Age': '29',\n",
       "  'Tm': 'POR'},\n",
       " {'Rk': '3',\n",
       "  'Player': 'Shai Gilgeous-Alexander',\n",
       "  'Pos': 'SG',\n",
       "  'Age': '21',\n",
       "  'Tm': 'OKC'},\n",
       " {'Rk': '4', 'Player': 'Ben Simmons', 'Pos': 'PG', 'Age': '23', 'Tm': 'PHI'},\n",
       " {'Rk': '5', 'Player': 'Tobias Harris', 'Pos': 'PF', 'Age': '27', 'Tm': 'PHI'}]"
      ]
     },
     "execution_count": 6,
     "metadata": {},
     "output_type": "execute_result"
    }
   ],
   "source": [
    "data['nba']"
   ]
  },
  {
   "cell_type": "code",
   "execution_count": 51,
   "metadata": {},
   "outputs": [
    {
     "data": {
      "text/plain": [
       "[{'age': '21',\n",
       "  'from': 'Nebraska',\n",
       "  'name': 'Scott',\n",
       "  'website': 'stackabuse.com'},\n",
       " {'age': '231', 'from': 'Michigan', 'name': 'Larry', 'website': 'google.com'},\n",
       " {'age': '21', 'from': 'Alabama', 'name': 'Tim', 'website': 'apple.com'}]"
      ]
     },
     "execution_count": 51,
     "metadata": {},
     "output_type": "execute_result"
    }
   ],
   "source": [
    "data['people']"
   ]
  },
  {
   "cell_type": "code",
   "execution_count": null,
   "metadata": {},
   "outputs": [],
   "source": [
    "print(data['people'].get('Scott'))"
   ]
  },
  {
   "cell_type": "code",
   "execution_count": 7,
   "metadata": {},
   "outputs": [
    {
     "data": {
      "text/plain": [
       "'PHI'"
      ]
     },
     "execution_count": 7,
     "metadata": {},
     "output_type": "execute_result"
    }
   ],
   "source": [
    "msg=\"NBA PHI\"\n",
    "cosa=msg.split()[1]\n",
    "cosa\n"
   ]
  }
 ],
 "metadata": {
  "kernelspec": {
   "display_name": "Python 3",
   "language": "python",
   "name": "python3"
  },
  "language_info": {
   "codemirror_mode": {
    "name": "ipython",
    "version": 3
   },
   "file_extension": ".py",
   "mimetype": "text/x-python",
   "name": "python",
   "nbconvert_exporter": "python",
   "pygments_lexer": "ipython3",
   "version": "3.9.0"
  }
 },
 "nbformat": 4,
 "nbformat_minor": 4
}
