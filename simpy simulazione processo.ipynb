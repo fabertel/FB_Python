{
 "cells": [
  {
   "cell_type": "markdown",
   "metadata": {},
   "source": [
    "LIBRERIE\n",
    "- https://pyomo.readthedocs.io/en/stable/index.html\n",
    "- https://simpy.readthedocs.io/en/latest/"
   ]
  },
  {
   "cell_type": "code",
   "execution_count": 2,
   "metadata": {},
   "outputs": [],
   "source": [
    "import simpy"
   ]
  },
  {
   "cell_type": "code",
   "execution_count": 42,
   "metadata": {},
   "outputs": [
    {
     "name": "stdout",
     "output_type": "stream",
     "text": [
      "Start parking at 0\n",
      "Start driving at 5\n",
      "Start recharge at 7\n",
      "Start parking at 14\n",
      "Start driving at 19\n",
      "Start recharge at 21\n",
      "Start parking at 28\n",
      "Start driving at 33\n",
      "Start recharge at 35\n",
      "3 3 3\n"
     ]
    }
   ],
   "source": [
    "# https://simpy.readthedocs.io/en/latest/simpy_intro/process_interaction.html\n",
    "\n",
    "import simpy\n",
    "SIM_TIME = 40\n",
    "parks = 0\n",
    "drives =0\n",
    "charges=0\n",
    "\n",
    "def car(env):\n",
    "    global parks, drives ,charges  #per aggiornare variabili globali da dentro uan funzione \n",
    "    while True:\n",
    "        print('Start parking at %d' % env.now)\n",
    "        parking_duration = 5\n",
    "        parks = parks +1 \n",
    "        yield env.timeout(parking_duration) #function to create a Timeout event (wait) \n",
    "\n",
    "        print('Start driving at %d' % env.now)\n",
    "        trip_duration = 2\n",
    "        drives =drives+1\n",
    "        yield env.timeout(trip_duration) \n",
    "        \n",
    "        print('Start recharge at %d' % env.now)\n",
    "        charges_duration = 7\n",
    "        charges =charges+1\n",
    "        yield env.timeout(charges_duration) #function to create a Timeout event (wait) \n",
    "        \n",
    "env = simpy.Environment()\n",
    "env.process(car(env))\n",
    "env.run(until=SIM_TIME)\n",
    "print(parks,drives,charges)\n"
   ]
  },
  {
   "cell_type": "raw",
   "metadata": {},
   "source": [
    "questo non funziona ancora ... \n"
   ]
  },
  {
   "cell_type": "code",
   "execution_count": 66,
   "metadata": {},
   "outputs": [
    {
     "name": "stdout",
     "output_type": "stream",
     "text": [
      "Start parking and charging at 0\n",
      "Start driving at 5\n",
      "Start parking and charging at 7\n",
      "Start driving at 12\n",
      "Start parking and charging at 14\n"
     ]
    }
   ],
   "source": [
    "# https://simpy.readthedocs.io/en/latest/simpy_intro/process_interaction.html\n",
    "\n",
    "import simpy\n",
    "\n",
    "class Car(object):\n",
    "    def __init__(self, env):\n",
    "        self.env = env         # Start the run process everytime an instance is created.\n",
    "        self.action = env.process(self.run())\n",
    "\n",
    "    def run(self):\n",
    "       while True:\n",
    "           print('Start parking and charging at %d' % self.env.now)\n",
    "           charge_duration = 5 # We may get interrupted while charging the battery\n",
    "           try:\n",
    "               yield self.env.process(self.charge(charge_duration))\n",
    "           except simpy.Interrupt:                # When we received an interrupt, we stop charging and switch to the \"driving\" state\n",
    "               print('Was interrupted. Hope, the battery is full enough ...')\n",
    "\n",
    "           print('Start driving at %d' % self.env.now)\n",
    "           trip_duration = 2\n",
    "           yield self.env.timeout(trip_duration)\n",
    "\n",
    "    def charge(self, duration):\n",
    "        yield self.env.timeout(duration)\n",
    "\n",
    "    def driver(env, car):\n",
    "        yield env.timeout(3)\n",
    "        car.action.interrupt()\n",
    "    \n",
    "env = simpy.Environment()\n",
    "car1 = Car(env)\n",
    "# car2 = Car(env)\n",
    "env.run(until=15)\n"
   ]
  },
  {
   "cell_type": "code",
   "execution_count": 4,
   "metadata": {},
   "outputs": [
    {
     "name": "stdout",
     "output_type": "stream",
     "text": [
      "Carwash\n",
      "Car 0 arrives at the carwash at 0.00.\n",
      "Car 1 arrives at the carwash at 0.00.\n",
      "Car 2 arrives at the carwash at 0.00.\n",
      "Car 3 arrives at the carwash at 0.00.\n",
      "Car 0 enters the carwash at 0.00.\n",
      "Car 1 enters the carwash at 0.00.\n",
      "Car 4 arrives at the carwash at 1.00.\n",
      "Car 5 arrives at the carwash at 2.00.\n",
      "Carwash removed 65% of Car 0's dirt.\n",
      "Carwash removed 64% of Car 1's dirt.\n",
      "Car 6 arrives at the carwash at 5.00.\n",
      "Car 0 leaves the carwash at 5.00.\n",
      "Car 1 leaves the carwash at 5.00.\n",
      "Car 2 enters the carwash at 5.00.\n",
      "Car 3 enters the carwash at 5.00.\n",
      "Car 7 arrives at the carwash at 7.00.\n",
      "Car 8 arrives at the carwash at 8.00.\n",
      "Carwash removed 55% of Car 2's dirt.\n",
      "Carwash removed 87% of Car 3's dirt.\n",
      "Car 2 leaves the carwash at 10.00.\n",
      "Car 3 leaves the carwash at 10.00.\n",
      "Car 4 enters the carwash at 10.00.\n",
      "Car 5 enters the carwash at 10.00.\n",
      "Car 9 arrives at the carwash at 13.00.\n",
      "Carwash removed 52% of Car 4's dirt.\n",
      "Carwash removed 51% of Car 5's dirt.\n",
      "Car 4 leaves the carwash at 15.00.\n",
      "Car 5 leaves the carwash at 15.00.\n",
      "Car 6 enters the carwash at 15.00.\n",
      "Car 7 enters the carwash at 15.00.\n",
      "Car 10 arrives at the carwash at 17.00.\n",
      "Car 11 arrives at the carwash at 18.00.\n"
     ]
    }
   ],
   "source": [
    "# Carwash example.\n",
    "# Covers:\n",
    "# - Waiting for other processes\n",
    "# - Resources: Resource\n",
    "# Scenario:\n",
    "#   A carwash has a limited number of washing machines and defines a washing processes that takes some (random) time.\n",
    "#   Car processes arrive at the carwash at a random time. If one washing machine is available, they start the washing process and wait for it\n",
    "#   to finish. If not, they wait until they an use one.\n",
    "\n",
    "import random\n",
    "import simpy\n",
    "\n",
    "RANDOM_SEED = 42\n",
    "NUM_MACHINES = 2  # Number of machines in the carwash\n",
    "WASHTIME = 5      # Minutes it takes to clean a car\n",
    "T_INTER = 3       # Create a car every ~7 minutes\n",
    "SIM_TIME = 20     # Simulation time in minutes\n",
    "\n",
    "class Carwash(object):\n",
    "#     carwash has a limited number of machines (NUM_MACHINES) to clean cars in parallel.  Cars have to request one of the machines. When they got one, they can start the washing processes and wait for it to finish (which     takes `washtime` minutes).\n",
    "    def __init__(self, env, num_machines, washtime):\n",
    "        self.env = env\n",
    "        self.machine = simpy.Resource(env, num_machines)\n",
    "        self.washtime = washtime\n",
    "\n",
    "    def wash(self, car):\n",
    "#     The washing processes. It takes a ``car`` processes and tries to clean it\n",
    "        yield self.env.timeout(WASHTIME)\n",
    "        print(\"Carwash removed %d%% of %s's dirt.\" %\n",
    "              (random.randint(50, 99), car))\n",
    "\n",
    "def car(env, name, cw):\n",
    "#     \"\"\"The car process (each car has a ``name``) arrives at the carwash (``cw``) and requests a cleaning machine.\n",
    "#     It then starts the washing process, waits for it to finish and leaves to never come back ...\n",
    "    print('%s arrives at the carwash at %.2f.' % (name, env.now))\n",
    "    with cw.machine.request() as request:\n",
    "        yield request\n",
    "\n",
    "        print('%s enters the carwash at %.2f.' % (name, env.now))\n",
    "        yield env.process(cw.wash(name))\n",
    "\n",
    "        print('%s leaves the carwash at %.2f.' % (name, env.now))\n",
    "\n",
    "def setup(env, num_machines, washtime, t_inter):\n",
    "#     Create a carwash, a number of initial cars and keep creating cars approx. every ``t_inter`` minutes.\"\"\"\n",
    "    carwash = Carwash(env, num_machines, washtime)   # Create carwash\n",
    "    for i in range(4):    \n",
    "        env.process(car(env, 'Car %d' % i, carwash))   # Create 4 initial cars\n",
    "    while True:\n",
    "        yield env.timeout(random.randint(t_inter - 2, t_inter + 2))\n",
    "        i += 1\n",
    "        env.process(car(env, 'Car %d' % i, carwash))      # Create more cars while the simulation is running\n",
    "\n",
    "# Setup and start the simulation\n",
    "print('Carwash')\n",
    "random.seed(RANDOM_SEED)  # This helps reproducing the results\n",
    "\n",
    "env = simpy.Environment()   # Create an environment \n",
    "env.process(setup(env, NUM_MACHINES, WASHTIME, T_INTER))  #start the setup process\n",
    "env.run(until=SIM_TIME) # Execute!"
   ]
  }
 ],
 "metadata": {
  "kernelspec": {
   "display_name": "Python 3",
   "language": "python",
   "name": "python3"
  },
  "language_info": {
   "codemirror_mode": {
    "name": "ipython",
    "version": 3
   },
   "file_extension": ".py",
   "mimetype": "text/x-python",
   "name": "python",
   "nbconvert_exporter": "python",
   "pygments_lexer": "ipython3",
   "version": "3.9.0"
  }
 },
 "nbformat": 4,
 "nbformat_minor": 4
}
